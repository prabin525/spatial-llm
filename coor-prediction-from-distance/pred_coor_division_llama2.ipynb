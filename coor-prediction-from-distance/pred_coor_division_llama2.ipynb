{
 "cells": [
  {
   "cell_type": "code",
   "execution_count": 1,
   "metadata": {},
   "outputs": [],
   "source": [
    "import os\n",
    "import sys\n",
    "import pandas as pd\n",
    "import numpy as np\n",
    "\n",
    "from helpers import (\n",
    "    peform_mds_division,\n",
    ")\n",
    "\n",
    "path = os.path.abspath(\"../spatial-awareness/geocoding/\")\n",
    "sys.path.append(path)\n",
    "from geocoding import GeoCoding\n",
    "\n",
    "%load_ext autoreload\n",
    "%autoreload 2"
   ]
  },
  {
   "cell_type": "code",
   "execution_count": 2,
   "metadata": {},
   "outputs": [],
   "source": [
    "cities = pd.read_pickle('cities_llama2.pkl')\n",
    "cities_list = list(set(cities.a_name.to_list()))\n",
    "\n",
    "gc = GeoCoding()\n",
    "\n",
    "coods = []\n",
    "coods_dic = {}\n",
    "for each in cities_list:\n",
    "    lat, lng, _, _ , _ = gc.get_lat_lng(each)\n",
    "    coods.append([lng, lat])\n",
    "    coods_dic[each] = [lat, lng]\n",
    "    \n",
    "coods = np.array(coods)"
   ]
  },
  {
   "attachments": {},
   "cell_type": "markdown",
   "metadata": {},
   "source": [
    "## Distance"
   ]
  },
  {
   "cell_type": "code",
   "execution_count": 3,
   "metadata": {},
   "outputs": [
    {
     "data": {
      "text/plain": [
       "56.777679245172465"
      ]
     },
     "execution_count": 3,
     "metadata": {},
     "output_type": "execute_result"
    }
   ],
   "source": [
    "dis_disparity_df = pd.DataFrame(0.0,index=cities_list, columns=cities_list)\n",
    "\n",
    "for i, each in dis_disparity_df.iterrows():\n",
    "    for c in cities_list:\n",
    "        if i == c:\n",
    "            continue\n",
    "        d = cities.loc[(cities.a_name == i) & (cities.b_name == c)]\n",
    "        each[c] = d['distance'].to_list()[0]\n",
    "\n",
    "vals = peform_mds_division(\n",
    "    disparity_df=dis_disparity_df,\n",
    "    coods_dic=coods_dic,\n",
    "    metric=True,\n",
    "    asymmetric=False,\n",
    "    similarity_measure_used=False\n",
    ")\n",
    "df = pd.DataFrame(vals)\n",
    "df.err.mean()"
   ]
  },
  {
   "attachments": {},
   "cell_type": "markdown",
   "metadata": {},
   "source": [
    "## Co-occurrence Count"
   ]
  },
  {
   "cell_type": "code",
   "execution_count": 4,
   "metadata": {},
   "outputs": [
    {
     "data": {
      "text/plain": [
       "425.6366237850284"
      ]
     },
     "execution_count": 4,
     "metadata": {},
     "output_type": "execute_result"
    }
   ],
   "source": [
    "disparity_df = pd.DataFrame(0.0,index=cities_list, columns=cities_list)\n",
    "\n",
    "for i, each in disparity_df.iterrows():\n",
    "    for c in cities_list:\n",
    "        if i == c:\n",
    "            continue\n",
    "        d = cities.loc[(cities.a_name == i) & (cities.b_name == c)]\n",
    "        each[c] = d['co_occ_count'].to_list()[0]\n",
    "\n",
    "vals = peform_mds_division(\n",
    "    disparity_df=disparity_df,\n",
    "    coods_dic=coods_dic,\n",
    "    metric=True,\n",
    "    asymmetric=True,\n",
    "    similarity_measure_used=True\n",
    ")\n",
    "df = pd.DataFrame(vals)\n",
    "df.err.mean()"
   ]
  },
  {
   "attachments": {},
   "cell_type": "markdown",
   "metadata": {},
   "source": [
    "## Random"
   ]
  },
  {
   "cell_type": "code",
   "execution_count": 5,
   "metadata": {},
   "outputs": [
    {
     "name": "stdout",
     "output_type": "stream",
     "text": [
      "[517.4248259043843, 508.3904384240066, 471.56441849382355, 494.280046673838, 459.487992074146, 483.9616512182175, 493.1285375513954, 504.74944283387373, 485.7481440502538, 463.1991700267782]\n"
     ]
    },
    {
     "data": {
      "text/plain": [
       "488.19346672507174"
      ]
     },
     "execution_count": 5,
     "metadata": {},
     "output_type": "execute_result"
    }
   ],
   "source": [
    "errs = []\n",
    "\n",
    "for _ in range(10):\n",
    "    arr_random = np.random.default_rng().uniform(low=1,high=5000,size=[93,93])\n",
    "    np.fill_diagonal(arr_random, 0)\n",
    "    disparity_df = pd.DataFrame(arr_random,index=cities_list, columns=cities_list)\n",
    "    vals = peform_mds_division(\n",
    "        disparity_df=disparity_df,\n",
    "        coods_dic=coods_dic,\n",
    "        metric=True,\n",
    "        asymmetric=True,\n",
    "        similarity_measure_used=False\n",
    "    )\n",
    "    df = pd.DataFrame(vals)\n",
    "    errs.append(df.err.mean())\n",
    "\n",
    "print(errs)\n",
    "sum(errs)/len(errs)"
   ]
  },
  {
   "attachments": {},
   "cell_type": "markdown",
   "metadata": {},
   "source": [
    "## Predicted Dis"
   ]
  },
  {
   "cell_type": "code",
   "execution_count": 6,
   "metadata": {},
   "outputs": [
    {
     "data": {
      "text/html": [
       "<div>\n",
       "<style scoped>\n",
       "    .dataframe tbody tr th:only-of-type {\n",
       "        vertical-align: middle;\n",
       "    }\n",
       "\n",
       "    .dataframe tbody tr th {\n",
       "        vertical-align: top;\n",
       "    }\n",
       "\n",
       "    .dataframe thead th {\n",
       "        text-align: right;\n",
       "    }\n",
       "</style>\n",
       "<table border=\"1\" class=\"dataframe\">\n",
       "  <thead>\n",
       "    <tr style=\"text-align: right;\">\n",
       "      <th></th>\n",
       "      <th>distance</th>\n",
       "      <th>predicted_dis</th>\n",
       "    </tr>\n",
       "  </thead>\n",
       "  <tbody>\n",
       "    <tr>\n",
       "      <th>distance</th>\n",
       "      <td>1.000000</td>\n",
       "      <td>0.988498</td>\n",
       "    </tr>\n",
       "    <tr>\n",
       "      <th>predicted_dis</th>\n",
       "      <td>0.988498</td>\n",
       "      <td>1.000000</td>\n",
       "    </tr>\n",
       "  </tbody>\n",
       "</table>\n",
       "</div>"
      ],
      "text/plain": [
       "               distance  predicted_dis\n",
       "distance       1.000000       0.988498\n",
       "predicted_dis  0.988498       1.000000"
      ]
     },
     "execution_count": 6,
     "metadata": {},
     "output_type": "execute_result"
    }
   ],
   "source": [
    "cities[['distance', 'predicted_dis']].corr('spearman')"
   ]
  },
  {
   "cell_type": "code",
   "execution_count": 7,
   "metadata": {},
   "outputs": [
    {
     "data": {
      "text/plain": [
       "109.23611776927801"
      ]
     },
     "execution_count": 7,
     "metadata": {},
     "output_type": "execute_result"
    }
   ],
   "source": [
    "dis_disparity_df = pd.DataFrame(0.0,index=cities_list, columns=cities_list)\n",
    "\n",
    "for i, each in dis_disparity_df.iterrows():\n",
    "    for c in cities_list:\n",
    "        if i == c:\n",
    "            continue\n",
    "        d = cities.loc[(cities.a_name == i) & (cities.b_name == c)]\n",
    "        each[c] = d['predicted_dis'].to_list()[0]\n",
    "\n",
    "vals = peform_mds_division(\n",
    "    disparity_df=dis_disparity_df,\n",
    "    coods_dic=coods_dic,\n",
    "    metric=True,\n",
    "    asymmetric=True,\n",
    "    similarity_measure_used=False\n",
    ")\n",
    "df = pd.DataFrame(vals)\n",
    "df.err.mean()"
   ]
  },
  {
   "attachments": {},
   "cell_type": "markdown",
   "metadata": {},
   "source": [
    "## And Counts"
   ]
  },
  {
   "cell_type": "code",
   "execution_count": 8,
   "metadata": {},
   "outputs": [
    {
     "data": {
      "text/plain": [
       "456.04534803999275"
      ]
     },
     "execution_count": 8,
     "metadata": {},
     "output_type": "execute_result"
    }
   ],
   "source": [
    "disparity_df = pd.DataFrame(0.0,index=cities_list, columns=cities_list)\n",
    "\n",
    "for i, each in disparity_df.iterrows():\n",
    "    for c in cities_list:\n",
    "        if i == c:\n",
    "            continue\n",
    "        d = cities.loc[(cities.a_name == i) & (cities.b_name == c)]\n",
    "        each[c] = d['and_count'].to_list()[0]\n",
    "\n",
    "vals = peform_mds_division(\n",
    "    disparity_df=disparity_df,\n",
    "    coods_dic=coods_dic,\n",
    "    metric=True,\n",
    "    asymmetric=True,\n",
    "    similarity_measure_used=True\n",
    ")\n",
    "df = pd.DataFrame(vals)\n",
    "df.err.mean()"
   ]
  },
  {
   "attachments": {},
   "cell_type": "markdown",
   "metadata": {},
   "source": [
    "## Near Count"
   ]
  },
  {
   "cell_type": "code",
   "execution_count": 9,
   "metadata": {},
   "outputs": [
    {
     "data": {
      "text/plain": [
       "322.8193074982972"
      ]
     },
     "execution_count": 9,
     "metadata": {},
     "output_type": "execute_result"
    }
   ],
   "source": [
    "disparity_df = pd.DataFrame(0.0,index=cities_list, columns=cities_list)\n",
    "\n",
    "for i, each in disparity_df.iterrows():\n",
    "    for c in cities_list:\n",
    "        if i == c:\n",
    "            continue\n",
    "        d = cities.loc[(cities.a_name == i) & (cities.b_name == c)]\n",
    "        each[c] = d['near_count'].to_list()[0]\n",
    "\n",
    "vals = peform_mds_division(\n",
    "    disparity_df=disparity_df,\n",
    "    coods_dic=coods_dic,\n",
    "    metric=True,\n",
    "    asymmetric=True,\n",
    "    similarity_measure_used=True\n",
    ")\n",
    "df = pd.DataFrame(vals)\n",
    "df.err.mean()"
   ]
  },
  {
   "attachments": {},
   "cell_type": "markdown",
   "metadata": {},
   "source": [
    "## Close to Count"
   ]
  },
  {
   "cell_type": "code",
   "execution_count": 10,
   "metadata": {},
   "outputs": [
    {
     "data": {
      "text/plain": [
       "351.3850410375941"
      ]
     },
     "execution_count": 10,
     "metadata": {},
     "output_type": "execute_result"
    }
   ],
   "source": [
    "disparity_df = pd.DataFrame(0.0,index=cities_list, columns=cities_list)\n",
    "\n",
    "for i, each in disparity_df.iterrows():\n",
    "    for c in cities_list:\n",
    "        if i == c:\n",
    "            continue\n",
    "        d = cities.loc[(cities.a_name == i) & (cities.b_name == c)]\n",
    "        each[c] = d['close_count'].to_list()[0]\n",
    "\n",
    "vals = peform_mds_division(\n",
    "    disparity_df=disparity_df,\n",
    "    coods_dic=coods_dic,\n",
    "    metric=True,\n",
    "    asymmetric=True,\n",
    "    similarity_measure_used=True\n",
    ")\n",
    "df = pd.DataFrame(vals)\n",
    "df.err.mean()"
   ]
  },
  {
   "attachments": {},
   "cell_type": "markdown",
   "metadata": {},
   "source": [
    "## Far Count"
   ]
  },
  {
   "cell_type": "code",
   "execution_count": 11,
   "metadata": {},
   "outputs": [
    {
     "data": {
      "text/plain": [
       "455.64383241028185"
      ]
     },
     "execution_count": 11,
     "metadata": {},
     "output_type": "execute_result"
    }
   ],
   "source": [
    "disparity_df = pd.DataFrame(0.0,index=cities_list, columns=cities_list)\n",
    "\n",
    "for i, each in disparity_df.iterrows():\n",
    "    for c in cities_list:\n",
    "        if i == c:\n",
    "            continue\n",
    "        d = cities.loc[(cities.a_name == i) & (cities.b_name == c)]\n",
    "        each[c] = d['far_count'].to_list()[0]\n",
    "\n",
    "vals = peform_mds_division(\n",
    "    disparity_df=disparity_df,\n",
    "    coods_dic=coods_dic,\n",
    "    metric=False,\n",
    "    asymmetric=True,\n",
    "    similarity_measure_used=False\n",
    ")\n",
    "df = pd.DataFrame(vals)\n",
    "df.err.mean()"
   ]
  },
  {
   "attachments": {},
   "cell_type": "markdown",
   "metadata": {},
   "source": [
    "#"
   ]
  }
 ],
 "metadata": {
  "kernelspec": {
   "display_name": "env",
   "language": "python",
   "name": "python3"
  },
  "language_info": {
   "codemirror_mode": {
    "name": "ipython",
    "version": 3
   },
   "file_extension": ".py",
   "mimetype": "text/x-python",
   "name": "python",
   "nbconvert_exporter": "python",
   "pygments_lexer": "ipython3",
   "version": "3.9.12"
  },
  "orig_nbformat": 4
 },
 "nbformat": 4,
 "nbformat_minor": 2
}
