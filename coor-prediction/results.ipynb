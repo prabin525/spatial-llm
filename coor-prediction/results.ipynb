{
 "cells": [
  {
   "cell_type": "code",
   "execution_count": 1,
   "metadata": {},
   "outputs": [],
   "source": [
    "import pandas as pd\n",
    "import os"
   ]
  },
  {
   "cell_type": "code",
   "execution_count": 30,
   "metadata": {},
   "outputs": [],
   "source": [
    "folder_loc = './processed_outputs'\n",
    "dirs = os.listdir(folder_loc)\n",
    "for i, file in enumerate(dirs):\n",
    "    if i == 0:\n",
    "        df = pd.read_json(open(f'{folder_loc}/{file}'))\n",
    "    else:\n",
    "        df2 = pd.read_json(open(f'{folder_loc}/{file}'))\n",
    "        df = pd.concat([df, df2])"
   ]
  },
  {
   "cell_type": "code",
   "execution_count": 31,
   "metadata": {},
   "outputs": [
    {
     "data": {
      "text/plain": [
       "(3527, 16)"
      ]
     },
     "execution_count": 31,
     "metadata": {},
     "output_type": "execute_result"
    }
   ],
   "source": [
    "df2.shape"
   ]
  },
  {
   "cell_type": "code",
   "execution_count": 17,
   "metadata": {},
   "outputs": [
    {
     "data": {
      "text/html": [
       "<div>\n",
       "<style scoped>\n",
       "    .dataframe tbody tr th:only-of-type {\n",
       "        vertical-align: middle;\n",
       "    }\n",
       "\n",
       "    .dataframe tbody tr th {\n",
       "        vertical-align: top;\n",
       "    }\n",
       "\n",
       "    .dataframe thead th {\n",
       "        text-align: right;\n",
       "    }\n",
       "</style>\n",
       "<table border=\"1\" class=\"dataframe\">\n",
       "  <thead>\n",
       "    <tr style=\"text-align: right;\">\n",
       "      <th></th>\n",
       "      <th>Country</th>\n",
       "      <th>City</th>\n",
       "      <th>AccentCity</th>\n",
       "      <th>Region</th>\n",
       "      <th>Population</th>\n",
       "      <th>Latitude</th>\n",
       "      <th>Longitude</th>\n",
       "      <th>output</th>\n",
       "      <th>full_output</th>\n",
       "      <th>model</th>\n",
       "      <th>model_size</th>\n",
       "      <th>p_type</th>\n",
       "      <th>p_length</th>\n",
       "      <th>predicted_Latitude</th>\n",
       "      <th>predicted_Longitude</th>\n",
       "      <th>err</th>\n",
       "    </tr>\n",
       "  </thead>\n",
       "  <tbody>\n",
       "    <tr>\n",
       "      <th>0</th>\n",
       "      <td>ae</td>\n",
       "      <td>abu dhabi</td>\n",
       "      <td>Abu Dhabi</td>\n",
       "      <td>1.0</td>\n",
       "      <td>603687</td>\n",
       "      <td>24.466667</td>\n",
       "      <td>54.366667</td>\n",
       "      <td>38.8333333 and 52.8333333.\\n\\nThe latitude an...</td>\n",
       "      <td>The latitude and longitude of Kalyan are 19.25...</td>\n",
       "      <td>opt</td>\n",
       "      <td>6.7b</td>\n",
       "      <td>1</td>\n",
       "      <td>3-shot</td>\n",
       "      <td>38.833333</td>\n",
       "      <td>52.833333</td>\n",
       "      <td>1599.574884</td>\n",
       "    </tr>\n",
       "    <tr>\n",
       "      <th>1</th>\n",
       "      <td>ae</td>\n",
       "      <td>dubai</td>\n",
       "      <td>Dubai</td>\n",
       "      <td>3.0</td>\n",
       "      <td>1137376</td>\n",
       "      <td>25.258172</td>\n",
       "      <td>55.304717</td>\n",
       "      <td>18.4 and 73.8.\\n\\nThe latitude and longitude ...</td>\n",
       "      <td>The latitude and longitude of Rajpur are 22.41...</td>\n",
       "      <td>opt</td>\n",
       "      <td>6.7b</td>\n",
       "      <td>1</td>\n",
       "      <td>3-shot</td>\n",
       "      <td>18.400000</td>\n",
       "      <td>73.800000</td>\n",
       "      <td>2054.769055</td>\n",
       "    </tr>\n",
       "    <tr>\n",
       "      <th>2</th>\n",
       "      <td>ae</td>\n",
       "      <td>sharjah</td>\n",
       "      <td>Sharjah</td>\n",
       "      <td>6.0</td>\n",
       "      <td>543942</td>\n",
       "      <td>25.357310</td>\n",
       "      <td>55.403304</td>\n",
       "      <td>45.837 and 13.8.\\n\\nThe latitude and longitud...</td>\n",
       "      <td>The latitude and longitude of Trieste are 45.6...</td>\n",
       "      <td>opt</td>\n",
       "      <td>6.7b</td>\n",
       "      <td>1</td>\n",
       "      <td>3-shot</td>\n",
       "      <td>45.837000</td>\n",
       "      <td>13.800000</td>\n",
       "      <td>4332.482154</td>\n",
       "    </tr>\n",
       "    <tr>\n",
       "      <th>3</th>\n",
       "      <td>af</td>\n",
       "      <td>baglan</td>\n",
       "      <td>Baglan</td>\n",
       "      <td>3.0</td>\n",
       "      <td>108481</td>\n",
       "      <td>36.130684</td>\n",
       "      <td>68.708286</td>\n",
       "      <td>33.9 and -97.1327778.\\n\\nThe latitude and lon...</td>\n",
       "      <td>The latitude and longitude of Denton are 33.21...</td>\n",
       "      <td>opt</td>\n",
       "      <td>6.7b</td>\n",
       "      <td>1</td>\n",
       "      <td>3-shot</td>\n",
       "      <td>33.900000</td>\n",
       "      <td>-97.132778</td>\n",
       "      <td>12113.801893</td>\n",
       "    </tr>\n",
       "    <tr>\n",
       "      <th>4</th>\n",
       "      <td>af</td>\n",
       "      <td>gardez</td>\n",
       "      <td>Gardez</td>\n",
       "      <td>36.0</td>\n",
       "      <td>103732</td>\n",
       "      <td>33.597439</td>\n",
       "      <td>69.225922</td>\n",
       "      <td>-10.981389 and 26.733333.\\n\\nThe latitude and...</td>\n",
       "      <td>The latitude and longitude of Likasi are -10.9...</td>\n",
       "      <td>opt</td>\n",
       "      <td>6.7b</td>\n",
       "      <td>1</td>\n",
       "      <td>3-shot</td>\n",
       "      <td>-10.981389</td>\n",
       "      <td>26.733333</td>\n",
       "      <td>6676.623481</td>\n",
       "    </tr>\n",
       "  </tbody>\n",
       "</table>\n",
       "</div>"
      ],
      "text/plain": [
       "  Country       City AccentCity Region  Population   Latitude  Longitude   \n",
       "0      ae  abu dhabi  Abu Dhabi    1.0      603687  24.466667  54.366667  \\\n",
       "1      ae      dubai      Dubai    3.0     1137376  25.258172  55.304717   \n",
       "2      ae    sharjah    Sharjah    6.0      543942  25.357310  55.403304   \n",
       "3      af     baglan     Baglan    3.0      108481  36.130684  68.708286   \n",
       "4      af     gardez     Gardez   36.0      103732  33.597439  69.225922   \n",
       "\n",
       "                                              output   \n",
       "0   38.8333333 and 52.8333333.\\n\\nThe latitude an...  \\\n",
       "1   18.4 and 73.8.\\n\\nThe latitude and longitude ...   \n",
       "2   45.837 and 13.8.\\n\\nThe latitude and longitud...   \n",
       "3   33.9 and -97.1327778.\\n\\nThe latitude and lon...   \n",
       "4   -10.981389 and 26.733333.\\n\\nThe latitude and...   \n",
       "\n",
       "                                         full_output model model_size  p_type   \n",
       "0  The latitude and longitude of Kalyan are 19.25...   opt       6.7b       1  \\\n",
       "1  The latitude and longitude of Rajpur are 22.41...   opt       6.7b       1   \n",
       "2  The latitude and longitude of Trieste are 45.6...   opt       6.7b       1   \n",
       "3  The latitude and longitude of Denton are 33.21...   opt       6.7b       1   \n",
       "4  The latitude and longitude of Likasi are -10.9...   opt       6.7b       1   \n",
       "\n",
       "  p_length  predicted_Latitude  predicted_Longitude           err  \n",
       "0   3-shot           38.833333            52.833333   1599.574884  \n",
       "1   3-shot           18.400000            73.800000   2054.769055  \n",
       "2   3-shot           45.837000            13.800000   4332.482154  \n",
       "3   3-shot           33.900000           -97.132778  12113.801893  \n",
       "4   3-shot          -10.981389            26.733333   6676.623481  "
      ]
     },
     "execution_count": 17,
     "metadata": {},
     "output_type": "execute_result"
    }
   ],
   "source": [
    "df.head()"
   ]
  },
  {
   "cell_type": "code",
   "execution_count": 32,
   "metadata": {},
   "outputs": [
    {
     "data": {
      "text/plain": [
       "model  model_size  p_type  p_length \n",
       "llama  13b         0       3-shot       1069.198589\n",
       "                           zero-shot     864.305397\n",
       "                   1       3-shot       1102.245346\n",
       "                           zero-shot     386.582253\n",
       "       7b          0       3-shot       1634.439779\n",
       "                           zero-shot    1082.464666\n",
       "                   1       3-shot       1469.991656\n",
       "                           zero-shot     521.849777\n",
       "opt    13b         0       3-shot       6830.446610\n",
       "                           zero-shot    2452.247993\n",
       "                   1       3-shot       6052.275759\n",
       "                           zero-shot    2780.776027\n",
       "       6.7b        0       3-shot       7714.362866\n",
       "                           zero-shot    3085.134859\n",
       "                   1       3-shot       7304.277470\n",
       "                           zero-shot    3009.015759\n",
       "Name: err, dtype: float64"
      ]
     },
     "execution_count": 32,
     "metadata": {},
     "output_type": "execute_result"
    }
   ],
   "source": [
    "df.groupby(by=[\"model\",\t\"model_size\", \"p_type\", \"p_length\"])['err'].mean()"
   ]
  },
  {
   "cell_type": "code",
   "execution_count": 33,
   "metadata": {},
   "outputs": [
    {
     "data": {
      "text/plain": [
       "model  model_size  p_type  p_length \n",
       "llama  13b         0       3-shot         24\n",
       "                           zero-shot     387\n",
       "                   1       3-shot          8\n",
       "                           zero-shot    2402\n",
       "       7b          0       3-shot         30\n",
       "                           zero-shot     547\n",
       "                   1       3-shot         13\n",
       "                           zero-shot    3187\n",
       "opt    13b         0       3-shot         63\n",
       "                           zero-shot    2894\n",
       "                   1       3-shot         79\n",
       "                           zero-shot    2752\n",
       "       6.7b        0       3-shot         29\n",
       "                           zero-shot    2784\n",
       "                   1       3-shot         28\n",
       "                           zero-shot    1996\n",
       "Name: err, dtype: int64"
      ]
     },
     "execution_count": 33,
     "metadata": {},
     "output_type": "execute_result"
    }
   ],
   "source": [
    "df2 = df.err.isnull().groupby([df['model'],df['model_size'], df['p_type'], df['p_length']]).sum().astype(int)\n",
    "df2"
   ]
  },
  {
   "cell_type": "code",
   "execution_count": 40,
   "metadata": {},
   "outputs": [
    {
     "data": {
      "text/plain": [
       "model  model_size  p_type  p_length \n",
       "llama  13b         0       3-shot       0.993195\n",
       "                           zero-shot    0.890275\n",
       "                   1       3-shot       0.997732\n",
       "                           zero-shot    0.318968\n",
       "       7b          0       3-shot       0.991494\n",
       "                           zero-shot    0.844911\n",
       "                   1       3-shot       0.996314\n",
       "                           zero-shot    0.096399\n",
       "opt    13b         0       3-shot       0.982138\n",
       "                           zero-shot    0.179473\n",
       "                   1       3-shot       0.977601\n",
       "                           zero-shot    0.219733\n",
       "       6.7b        0       3-shot       0.991778\n",
       "                           zero-shot    0.210661\n",
       "                   1       3-shot       0.992061\n",
       "                           zero-shot    0.434080\n",
       "Name: err, dtype: float64"
      ]
     },
     "execution_count": 40,
     "metadata": {},
     "output_type": "execute_result"
    }
   ],
   "source": [
    "1 - df2/3527"
   ]
  },
  {
   "cell_type": "code",
   "execution_count": 41,
   "metadata": {},
   "outputs": [
    {
     "data": {
      "text/plain": [
       "model   model_size  p_type\n",
       "alpaca  7b          0          829\n",
       "                    1            9\n",
       "llama   13b         0          411\n",
       "                    1         2410\n",
       "        7b          0          577\n",
       "                    1         3200\n",
       "opt     13b         0         2957\n",
       "                    1         2831\n",
       "        6.7b        0         2813\n",
       "                    1         2024\n",
       "Name: err, dtype: int64"
      ]
     },
     "execution_count": 41,
     "metadata": {},
     "output_type": "execute_result"
    }
   ],
   "source": [
    "df2 = df.err.isnull().groupby([df['model'],df['model_size'], df['p_type']]).sum().astype(int)\n",
    "df2"
   ]
  },
  {
   "cell_type": "code",
   "execution_count": 42,
   "metadata": {},
   "outputs": [
    {
     "data": {
      "text/plain": [
       "model   model_size  p_type\n",
       "alpaca  7b          0         0.764956\n",
       "                    1         0.997448\n",
       "llama   13b         0         0.883470\n",
       "                    1         0.316700\n",
       "        7b          0         0.836405\n",
       "                    1         0.092713\n",
       "opt     13b         0         0.161610\n",
       "                    1         0.197335\n",
       "        6.7b        0         0.202438\n",
       "                    1         0.426141\n",
       "Name: err, dtype: float64"
      ]
     },
     "execution_count": 42,
     "metadata": {},
     "output_type": "execute_result"
    }
   ],
   "source": [
    "1 - df2/3527"
   ]
  },
  {
   "cell_type": "code",
   "execution_count": 21,
   "metadata": {},
   "outputs": [
    {
     "data": {
      "text/plain": [
       "model   model_size  p_type\n",
       "alpaca  7b          0         1799.540723\n",
       "                    1         2158.915491\n",
       "llama   13b         0          972.350083\n",
       "                    1          928.877349\n",
       "        7b          0         1380.481799\n",
       "                    1         1386.346550\n",
       "opt     13b         0         6154.000497\n",
       "                    1         5451.893971\n",
       "        6.7b        0         6903.347443\n",
       "                    1         5996.912524\n",
       "Name: err, dtype: float64"
      ]
     },
     "execution_count": 21,
     "metadata": {},
     "output_type": "execute_result"
    }
   ],
   "source": [
    "df.groupby(by=[\"model\",\t\"model_size\", \"p_type\"])['err'].mean()"
   ]
  }
 ],
 "metadata": {
  "kernelspec": {
   "display_name": "env",
   "language": "python",
   "name": "python3"
  },
  "language_info": {
   "codemirror_mode": {
    "name": "ipython",
    "version": 3
   },
   "file_extension": ".py",
   "mimetype": "text/x-python",
   "name": "python",
   "nbconvert_exporter": "python",
   "pygments_lexer": "ipython3",
   "version": "3.9.12"
  },
  "orig_nbformat": 4
 },
 "nbformat": 4,
 "nbformat_minor": 2
}
