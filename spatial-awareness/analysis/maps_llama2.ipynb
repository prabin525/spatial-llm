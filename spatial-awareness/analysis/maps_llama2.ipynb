{
 "cells": [
  {
   "cell_type": "code",
   "execution_count": 2,
   "metadata": {},
   "outputs": [],
   "source": [
    "import os\n",
    "import pandas as pd\n",
    "import folium\n",
    "from folium.plugins import HeatMap\n",
    "import io\n",
    "from PIL import Image\n",
    "\n",
    "\n",
    "base_dir = '../outputs_processed_llama2/'\n",
    "\n",
    "files = os.listdir(base_dir)\n",
    "\n",
    "for i, f in enumerate(files):\n",
    "    if i == 0:\n",
    "        df = pd.read_json(open(f'{base_dir}{f}'))\n",
    "    else:\n",
    "        df2 = pd.read_json(open(f'{base_dir}{f}'))\n",
    "        df = pd.concat([df, df2])\n",
    "\n"
   ]
  },
  {
   "cell_type": "code",
   "execution_count": 3,
   "metadata": {},
   "outputs": [],
   "source": [
    "def generate_prep_map(name, df_temp):\n",
    "    mid_lat = 39.8097\n",
    "    mid_lng = -98.5556\n",
    "    zoom = 4\n",
    "    sw = [24.521208, -124.736342]\n",
    "    ne = [49.382808, -66.945392]\n",
    "    # near\n",
    "    m_near = folium.Map(\n",
    "        location=[mid_lat, mid_lng],\n",
    "        tiles=\"cartodb positron\",\n",
    "        zoom_start=zoom,\n",
    "    )\n",
    "    folium.Marker(\n",
    "        [df_temp.iloc[0].lat, df_temp.iloc[0].lng],\n",
    "        text='Albany'\n",
    "    ).add_to(m_near)\n",
    "    HeatMap(data = df_temp.loc[df_temp.p_type == 'near'][['lat_b','lng_b']]).add_to(m_near)\n",
    "    m_near.fit_bounds([sw, ne])\n",
    "\n",
    "    # close\n",
    "    m_close = folium.Map(\n",
    "        location=[mid_lat, mid_lng],\n",
    "        tiles=\"cartodb positron\",\n",
    "        zoom_start=zoom\n",
    "    )\n",
    "    folium.Marker(\n",
    "        [df_temp.iloc[0].lat, df_temp.iloc[0].lng],\n",
    "    ).add_to(m_close)\n",
    "    HeatMap(data = df_temp.loc[df_temp.p_type == 'close'][['lat_b','lng_b']]).add_to(m_close)\n",
    "    m_close.fit_bounds([sw, ne])\n",
    "\n",
    "    # far\n",
    "    m_far = folium.Map(\n",
    "        location=[mid_lat, mid_lng],\n",
    "        tiles=\"cartodb positron\",\n",
    "        zoom_start=zoom\n",
    "    )\n",
    "    folium.Marker(\n",
    "        [df_temp.iloc[0].lat, df_temp.iloc[0].lng],\n",
    "    ).add_to(m_far)\n",
    "    HeatMap(data = df_temp.loc[df_temp.p_type == 'far'][['lat_b','lng_b']]).add_to(m_far)\n",
    "    m_far.fit_bounds([sw, ne])\n",
    "\n",
    "    # and\n",
    "    m_and = folium.Map(\n",
    "        location=[mid_lat, mid_lng],\n",
    "        tiles=\"cartodb positron\",\n",
    "        zoom_start=zoom\n",
    "    )\n",
    "    folium.Marker(\n",
    "        [df_temp.iloc[0].lat, df_temp.iloc[0].lng],\n",
    "    ).add_to(m_and)\n",
    "    HeatMap(data = df_temp.loc[df_temp.p_type == 'and'][['lat_b','lng_b']]).add_to(m_and)\n",
    "    m_and.fit_bounds([sw, ne])\n",
    "\n",
    "    img_data = m_near._to_png(10)\n",
    "    img = Image.open(io.BytesIO(img_data))\n",
    "    img.save(f'map_images_llama2/{name}-near.png')\n",
    "\n",
    "    img_data = m_far._to_png(10)\n",
    "    img = Image.open(io.BytesIO(img_data))\n",
    "    img.save(f'map_images_llama2/{name}-far.png')\n",
    "\n",
    "    img_data = m_close._to_png(10)\n",
    "    img = Image.open(io.BytesIO(img_data))\n",
    "    img.save(f'map_images_llama2/{name}-close.png')\n",
    "\n",
    "    img_data = m_and._to_png(10)\n",
    "    img = Image.open(io.BytesIO(img_data))\n",
    "    img.save(f'map_images_llama2/{name}-and.png')"
   ]
  },
  {
   "attachments": {},
   "cell_type": "markdown",
   "metadata": {},
   "source": [
    "## Albany, New York"
   ]
  },
  {
   "cell_type": "code",
   "execution_count": 4,
   "metadata": {},
   "outputs": [],
   "source": [
    "# Albany\n",
    "\n",
    "df_temp = df.loc[(df.name == 'Albany, New York') & (df.state=='state')]\n",
    "df_temp.head()\n",
    "generate_prep_map('albany', df_temp)"
   ]
  },
  {
   "attachments": {},
   "cell_type": "markdown",
   "metadata": {},
   "source": [
    "## Boston, Massachusetts"
   ]
  },
  {
   "cell_type": "code",
   "execution_count": 5,
   "metadata": {},
   "outputs": [],
   "source": [
    "\n",
    "df_temp = df.loc[(df.name == 'Boston, Massachusetts') & (df.state=='state')]\n",
    "df_temp.head()\n",
    "generate_prep_map('boston', df_temp)"
   ]
  },
  {
   "attachments": {},
   "cell_type": "markdown",
   "metadata": {},
   "source": [
    "## Fort Worth, Texas"
   ]
  },
  {
   "cell_type": "code",
   "execution_count": 6,
   "metadata": {},
   "outputs": [],
   "source": [
    "\n",
    "df_temp = df.loc[(df.name == 'Fort Worth, Texas') & (df.state=='state')]\n",
    "df_temp.head()\n",
    "generate_prep_map('fw', df_temp)"
   ]
  },
  {
   "attachments": {},
   "cell_type": "markdown",
   "metadata": {},
   "source": [
    "##  Fresno, California "
   ]
  },
  {
   "cell_type": "code",
   "execution_count": 7,
   "metadata": {},
   "outputs": [],
   "source": [
    "df_temp = df.loc[(df.name == 'Fresno, California') & (df.state=='state')]\n",
    "df_temp.head()\n",
    "generate_prep_map('fresno', df_temp)"
   ]
  },
  {
   "attachments": {},
   "cell_type": "markdown",
   "metadata": {},
   "source": [
    "## Havre, Montana"
   ]
  },
  {
   "cell_type": "code",
   "execution_count": 8,
   "metadata": {},
   "outputs": [],
   "source": [
    "df_temp = df.loc[(df.name == 'Havre, Montana') & (df.state=='state')]\n",
    "df_temp.head()\n",
    "generate_prep_map('havre', df_temp)"
   ]
  },
  {
   "cell_type": "code",
   "execution_count": null,
   "metadata": {},
   "outputs": [],
   "source": []
  }
 ],
 "metadata": {
  "kernelspec": {
   "display_name": "env",
   "language": "python",
   "name": "python3"
  },
  "language_info": {
   "codemirror_mode": {
    "name": "ipython",
    "version": 3
   },
   "file_extension": ".py",
   "mimetype": "text/x-python",
   "name": "python",
   "nbconvert_exporter": "python",
   "pygments_lexer": "ipython3",
   "version": "3.9.12"
  },
  "orig_nbformat": 4
 },
 "nbformat": 4,
 "nbformat_minor": 2
}
