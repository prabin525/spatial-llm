{
 "cells": [
  {
   "cell_type": "code",
   "execution_count": 1,
   "metadata": {},
   "outputs": [],
   "source": [
    "import os\n",
    "import pandas as pd\n",
    "import matplotlib.pyplot as plt\n",
    "import numpy as np\n",
    "import matplotlib.patches as mpatches\n",
    "\n",
    "def set_axis_style(ax, labels):\n",
    "    ax.set_xticks(np.arange(1, len(labels) + 1), labels=labels)\n",
    "    ax.set_xlim(0.25, len(labels) + 0.75)\n",
    "\n",
    "def preprocess_for_plot(df, state='state', prep='near'):\n",
    "    return df.loc[(df.p_type == prep) & (df.state == state)].dis.to_list()"
   ]
  },
  {
   "cell_type": "code",
   "execution_count": 3,
   "metadata": {},
   "outputs": [],
   "source": [
    "base_dir = '../outputs_processed/'\n",
    "\n",
    "files = os.listdir(base_dir)\n",
    "\n",
    "for i, f in enumerate(files):\n",
    "    if i == 0:\n",
    "        df_llama = pd.read_json(open(f'{base_dir}{f}'))\n",
    "    else:\n",
    "        df_llama_2 = pd.read_json(open(f'{base_dir}{f}'))\n",
    "        df_llama = pd.concat([df_llama, df_llama_2])"
   ]
  },
  {
   "cell_type": "code",
   "execution_count": 4,
   "metadata": {},
   "outputs": [
    {
     "data": {
      "text/plain": [
       "Index(['name', 'lat', 'lng', 'near_city', 'far_city', 'p_type', 'p_length',\n",
       "       'state', 'city_b', 'lat_b', 'lng_b', 'dis'],\n",
       "      dtype='object')"
      ]
     },
     "execution_count": 4,
     "metadata": {},
     "output_type": "execute_result"
    }
   ],
   "source": [
    "df_llama.columns"
   ]
  },
  {
   "cell_type": "code",
   "execution_count": 5,
   "metadata": {},
   "outputs": [
    {
     "data": {
      "text/plain": [
       "p_type  p_length  state   \n",
       "and     3-shot    no-state    2043.580248\n",
       "                  state       1756.778816\n",
       "close   3-shot    no-state    1312.020658\n",
       "                  state        310.441550\n",
       "far     3-shot    no-state    2561.481481\n",
       "                  state       2570.833955\n",
       "near    3-shot    no-state    1333.217845\n",
       "                  state        335.603998\n",
       "Name: dis, dtype: float64"
      ]
     },
     "execution_count": 5,
     "metadata": {},
     "output_type": "execute_result"
    }
   ],
   "source": [
    "df_llama.groupby(['p_type', 'p_length', 'state'])['dis'].mean()"
   ]
  },
  {
   "cell_type": "code",
   "execution_count": 6,
   "metadata": {},
   "outputs": [
    {
     "data": {
      "text/plain": [
       "p_type  p_length  state   \n",
       "and     3-shot    no-state    1502.469986\n",
       "                  state       1501.442411\n",
       "close   3-shot    no-state     306.222553\n",
       "                  state        181.398355\n",
       "far     3-shot    no-state    2352.410508\n",
       "                  state       2362.423053\n",
       "near    3-shot    no-state     317.043890\n",
       "                  state        194.145265\n",
       "Name: dis, dtype: float64"
      ]
     },
     "execution_count": 6,
     "metadata": {},
     "output_type": "execute_result"
    }
   ],
   "source": [
    "df_llama.groupby(['p_type', 'p_length', 'state'])['dis'].median()"
   ]
  },
  {
   "cell_type": "code",
   "execution_count": 18,
   "metadata": {},
   "outputs": [
    {
     "data": {
      "image/png": "[encoded data removed]",
      "text/plain": [
       "<Figure size 640x480 with 1 Axes>"
      ]
     },
     "metadata": {},
     "output_type": "display_data"
    }
   ],
   "source": [
    "\n",
    "fig, axes = plt.subplots()\n",
    "\n",
    "p = axes.boxplot(\n",
    "    [\n",
    "        preprocess_for_plot(df_llama, 'state', 'near'),\n",
    "        preprocess_for_plot(df_llama, 'state', 'close'),\n",
    "        preprocess_for_plot(df_llama, 'state', 'and'),\n",
    "        preprocess_for_plot(df_llama, 'state', 'far'),\n",
    "        preprocess_for_plot(df_llama, 'no-state', 'near'),\n",
    "        preprocess_for_plot(df_llama, 'no-state', 'close'),\n",
    "        preprocess_for_plot(df_llama, 'no-state', 'and'),\n",
    "        preprocess_for_plot(df_llama, 'no-state', 'far'),\n",
    "    ],\n",
    "    showfliers=False,\n",
    "    patch_artist=True\n",
    ")\n",
    "axes.yaxis.grid(True)\n",
    "axes.set_ylabel('Distance')\n",
    "axes.set_xlabel('Preposition')\n",
    "labels = [\n",
    "    'near',\n",
    "    'close',\n",
    "    'and',\n",
    "    'far',\n",
    "    'near',\n",
    "    'close',\n",
    "    'and',\n",
    "    'far',\n",
    "]\n",
    "for i, box in enumerate(p['boxes']):\n",
    "    if i in [0, 1, 2, 3]:\n",
    "        box.set(hatch = '', fill=False)\n",
    "    else:\n",
    "        box.set(hatch = '///', fill=False)\n",
    "set_axis_style(axes, labels)\n",
    "# plt.xticks(rotation = 45)\n",
    "\n",
    "circ1 = mpatches.Patch(hatch='', fill=False, label='With state')\n",
    "circ2 = mpatches.Patch(hatch='///', fill=False, label='Without State')\n",
    "\n",
    "axes.legend(handles = [circ1, circ2],loc=2)\n",
    "\n",
    "axes.set_box_aspect(4/10)\n",
    "\n",
    "plt.tight_layout()\n",
    "# plt.show()\n",
    "plt.savefig(\"plots/predicted_distances.png\", dpi=300)"
   ]
  },
  {
   "cell_type": "markdown",
   "metadata": {},
   "source": [
    "# LLama 2"
   ]
  },
  {
   "cell_type": "code",
   "execution_count": 12,
   "metadata": {},
   "outputs": [],
   "source": [
    "base_dir_2 = '../outputs_processed_llama2/'\n",
    "\n",
    "files_2 = os.listdir(base_dir_2)\n",
    "\n",
    "for i, f in enumerate(files_2):\n",
    "    if i == 0:\n",
    "        df_llama2 = pd.read_json(open(f'{base_dir_2}{f}'))\n",
    "    else:\n",
    "        df_llama2_2 = pd.read_json(open(f'{base_dir_2}{f}'))\n",
    "        df_llama2 = pd.concat([df_llama2, df_llama2_2])"
   ]
  },
  {
   "cell_type": "code",
   "execution_count": 13,
   "metadata": {},
   "outputs": [
    {
     "data": {
      "text/plain": [
       "p_type  p_length  state   \n",
       "and     3-shot    no-state    2187.208368\n",
       "                  state       1959.721781\n",
       "close   3-shot    no-state    1178.858931\n",
       "                  state        285.190677\n",
       "far     3-shot    no-state    2658.606433\n",
       "                  state       2791.921976\n",
       "near    3-shot    no-state    1164.492932\n",
       "                  state        295.304499\n",
       "Name: dis, dtype: float64"
      ]
     },
     "execution_count": 13,
     "metadata": {},
     "output_type": "execute_result"
    }
   ],
   "source": [
    "df_llama2.groupby(['p_type', 'p_length', 'state'])['dis'].mean()"
   ]
  },
  {
   "cell_type": "code",
   "execution_count": 14,
   "metadata": {},
   "outputs": [
    {
     "data": {
      "text/plain": [
       "p_type  p_length  state   \n",
       "and     3-shot    no-state    1774.828961\n",
       "                  state       1747.735491\n",
       "close   3-shot    no-state     287.144702\n",
       "                  state        166.939004\n",
       "far     3-shot    no-state    2515.260693\n",
       "                  state       2640.067966\n",
       "near    3-shot    no-state     304.716368\n",
       "                  state        173.159433\n",
       "Name: dis, dtype: float64"
      ]
     },
     "execution_count": 14,
     "metadata": {},
     "output_type": "execute_result"
    }
   ],
   "source": [
    "df_llama2.groupby(['p_type', 'p_length', 'state'])['dis'].median()"
   ]
  },
  {
   "cell_type": "code",
   "execution_count": 17,
   "metadata": {},
   "outputs": [
    {
     "data": {
      "image/png": "[encoded data removed]",
      "text/plain": [
       "<Figure size 640x480 with 1 Axes>"
      ]
     },
     "metadata": {},
     "output_type": "display_data"
    }
   ],
   "source": [
    "fig, axes = plt.subplots()\n",
    "\n",
    "p = axes.boxplot(\n",
    "    [\n",
    "        preprocess_for_plot(df_llama2, 'state', 'near'),\n",
    "        preprocess_for_plot(df_llama2, 'state', 'close'),\n",
    "        preprocess_for_plot(df_llama2, 'state', 'and'),\n",
    "        preprocess_for_plot(df_llama2, 'state', 'far'),\n",
    "        preprocess_for_plot(df_llama2, 'no-state', 'near'),\n",
    "        preprocess_for_plot(df_llama2, 'no-state', 'close'),\n",
    "        preprocess_for_plot(df_llama2, 'no-state', 'and'),\n",
    "        preprocess_for_plot(df_llama2, 'no-state', 'far'),\n",
    "    ],\n",
    "    showfliers=False,\n",
    "    patch_artist=True\n",
    ")\n",
    "axes.yaxis.grid(True)\n",
    "axes.set_ylabel('Distance')\n",
    "axes.set_xlabel('Preposition')\n",
    "labels = [\n",
    "    'near',\n",
    "    'close',\n",
    "    'and',\n",
    "    'far',\n",
    "    'near',\n",
    "    'close',\n",
    "    'and',\n",
    "    'far',\n",
    "]\n",
    "for i, box in enumerate(p['boxes']):\n",
    "    if i in [0, 1, 2, 3]:\n",
    "        box.set(hatch = '', fill=False)\n",
    "    else:\n",
    "        box.set(hatch = '///', fill=False)\n",
    "set_axis_style(axes, labels)\n",
    "# plt.xticks(rotation = 45)\n",
    "\n",
    "circ1 = mpatches.Patch(hatch='', fill=False, label='With state')\n",
    "circ2 = mpatches.Patch(hatch='///', fill=False, label='Without State')\n",
    "\n",
    "axes.legend(handles = [circ1, circ2],loc=2)\n",
    "\n",
    "axes.set_box_aspect(4/10)\n",
    "\n",
    "plt.tight_layout()\n",
    "# plt.show()\n",
    "plt.savefig(\"plots/predicted_distances_llama2.png\", dpi=300)"
   ]
  }
 ],
 "metadata": {
  "kernelspec": {
   "display_name": "env",
   "language": "python",
   "name": "python3"
  },
  "language_info": {
   "codemirror_mode": {
    "name": "ipython",
    "version": 3
   },
   "file_extension": ".py",
   "mimetype": "text/x-python",
   "name": "python",
   "nbconvert_exporter": "python",
   "pygments_lexer": "ipython3",
   "version": "3.9.12"
  },
  "orig_nbformat": 4
 },
 "nbformat": 4,
 "nbformat_minor": 2
}
